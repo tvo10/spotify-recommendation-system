{
 "cells": [
  {
   "cell_type": "markdown",
   "metadata": {},
   "source": [
    "## Introduction\n",
    "All the data are scraped from various playlists in Mandarin on Spotify. Please see this [notebook](https://github.com/tvo10/spotify-recommendation-system/blob/main/01_spotify_recommendation_system_scrape_data.ipynb) to see how we scraped the metadata. \n",
    "\n",
    "The playlists are:\n",
    "* https://open.spotify.com/playlist/1cx0Gbqhb7rT3aHUQbQiTQ\n",
    "* https://open.spotify.com/playlist/0iAm4XiG8zb6q3lWi4qtiF\n",
    "\n",
    "There will be 5 csv files that need to be merged to one dataset, including:\n",
    "* **names.csv:** The names of the songs\n",
    "* **artists.csv:** The artist(s) of the songs\n",
    "* **popularity.csv:** The popularity of the songs\n",
    "* **release_date.csv:** The release dates of the songs\n",
    "* **features.csv:** The features of the songs"
   ]
  },
  {
   "cell_type": "code",
   "execution_count": 1,
   "metadata": {},
   "outputs": [],
   "source": [
    "# import libraries\n",
    "import pandas as pd\n",
    "import re\n",
    "import numpy as np\n",
    "import json\n",
    "from pandas.io.json import json_normalize"
   ]
  },
  {
   "cell_type": "markdown",
   "metadata": {},
   "source": [
    "### Names of the songs"
   ]
  },
  {
   "cell_type": "code",
   "execution_count": 2,
   "metadata": {},
   "outputs": [
    {
     "name": "stdout",
     "output_type": "stream",
     "text": [
      "(2410, 1)\n"
     ]
    },
    {
     "data": {
      "text/html": [
       "<div>\n",
       "<style scoped>\n",
       "    .dataframe tbody tr th:only-of-type {\n",
       "        vertical-align: middle;\n",
       "    }\n",
       "\n",
       "    .dataframe tbody tr th {\n",
       "        vertical-align: top;\n",
       "    }\n",
       "\n",
       "    .dataframe thead th {\n",
       "        text-align: right;\n",
       "    }\n",
       "</style>\n",
       "<table border=\"1\" class=\"dataframe\">\n",
       "  <thead>\n",
       "    <tr style=\"text-align: right;\">\n",
       "      <th></th>\n",
       "      <th>name</th>\n",
       "    </tr>\n",
       "  </thead>\n",
       "  <tbody>\n",
       "    <tr>\n",
       "      <th>0</th>\n",
       "      <td>晴天</td>\n",
       "    </tr>\n",
       "    <tr>\n",
       "      <th>1</th>\n",
       "      <td>零</td>\n",
       "    </tr>\n",
       "    <tr>\n",
       "      <th>2</th>\n",
       "      <td>寶貝 (In a Day)</td>\n",
       "    </tr>\n",
       "    <tr>\n",
       "      <th>3</th>\n",
       "      <td>雨愛</td>\n",
       "    </tr>\n",
       "    <tr>\n",
       "      <th>4</th>\n",
       "      <td>掉了</td>\n",
       "    </tr>\n",
       "  </tbody>\n",
       "</table>\n",
       "</div>"
      ],
      "text/plain": [
       "            name\n",
       "0             晴天\n",
       "1              零\n",
       "2  寶貝 (In a Day)\n",
       "3             雨愛\n",
       "4             掉了"
      ]
     },
     "execution_count": 2,
     "metadata": {},
     "output_type": "execute_result"
    }
   ],
   "source": [
    "# read in names.csv\n",
    "song_names = pd.read_csv('../data/mandopop/names.csv')\n",
    "print(song_names.shape)\n",
    "song_names.head()"
   ]
  },
  {
   "cell_type": "markdown",
   "metadata": {},
   "source": [
    "### Artists of the songs"
   ]
  },
  {
   "cell_type": "code",
   "execution_count": 3,
   "metadata": {},
   "outputs": [
    {
     "name": "stdout",
     "output_type": "stream",
     "text": [
      "(2410, 1)\n"
     ]
    },
    {
     "data": {
      "text/html": [
       "<div>\n",
       "<style scoped>\n",
       "    .dataframe tbody tr th:only-of-type {\n",
       "        vertical-align: middle;\n",
       "    }\n",
       "\n",
       "    .dataframe tbody tr th {\n",
       "        vertical-align: top;\n",
       "    }\n",
       "\n",
       "    .dataframe thead th {\n",
       "        text-align: right;\n",
       "    }\n",
       "</style>\n",
       "<table border=\"1\" class=\"dataframe\">\n",
       "  <thead>\n",
       "    <tr style=\"text-align: right;\">\n",
       "      <th></th>\n",
       "      <th>artists</th>\n",
       "    </tr>\n",
       "  </thead>\n",
       "  <tbody>\n",
       "    <tr>\n",
       "      <th>0</th>\n",
       "      <td>Jay Chou</td>\n",
       "    </tr>\n",
       "    <tr>\n",
       "      <th>1</th>\n",
       "      <td>Alan Kuo</td>\n",
       "    </tr>\n",
       "    <tr>\n",
       "      <th>2</th>\n",
       "      <td>Deserts Chang</td>\n",
       "    </tr>\n",
       "    <tr>\n",
       "      <th>3</th>\n",
       "      <td>Rainie Yang</td>\n",
       "    </tr>\n",
       "    <tr>\n",
       "      <th>4</th>\n",
       "      <td>A-Mei Chang</td>\n",
       "    </tr>\n",
       "  </tbody>\n",
       "</table>\n",
       "</div>"
      ],
      "text/plain": [
       "         artists\n",
       "0       Jay Chou\n",
       "1       Alan Kuo\n",
       "2  Deserts Chang\n",
       "3    Rainie Yang\n",
       "4    A-Mei Chang"
      ]
     },
     "execution_count": 3,
     "metadata": {},
     "output_type": "execute_result"
    }
   ],
   "source": [
    "# read in artists.csv\n",
    "song_artists = pd.read_csv('../data/mandopop/artists.csv') \n",
    "print(song_artists.shape)\n",
    "song_artists.head()"
   ]
  },
  {
   "cell_type": "markdown",
   "metadata": {},
   "source": [
    "### Popularity of the songs"
   ]
  },
  {
   "cell_type": "code",
   "execution_count": 4,
   "metadata": {},
   "outputs": [
    {
     "name": "stdout",
     "output_type": "stream",
     "text": [
      "(2410, 1)\n"
     ]
    },
    {
     "data": {
      "text/html": [
       "<div>\n",
       "<style scoped>\n",
       "    .dataframe tbody tr th:only-of-type {\n",
       "        vertical-align: middle;\n",
       "    }\n",
       "\n",
       "    .dataframe tbody tr th {\n",
       "        vertical-align: top;\n",
       "    }\n",
       "\n",
       "    .dataframe thead th {\n",
       "        text-align: right;\n",
       "    }\n",
       "</style>\n",
       "<table border=\"1\" class=\"dataframe\">\n",
       "  <thead>\n",
       "    <tr style=\"text-align: right;\">\n",
       "      <th></th>\n",
       "      <th>popularity</th>\n",
       "    </tr>\n",
       "  </thead>\n",
       "  <tbody>\n",
       "    <tr>\n",
       "      <th>0</th>\n",
       "      <td>61</td>\n",
       "    </tr>\n",
       "    <tr>\n",
       "      <th>1</th>\n",
       "      <td>42</td>\n",
       "    </tr>\n",
       "    <tr>\n",
       "      <th>2</th>\n",
       "      <td>44</td>\n",
       "    </tr>\n",
       "    <tr>\n",
       "      <th>3</th>\n",
       "      <td>55</td>\n",
       "    </tr>\n",
       "    <tr>\n",
       "      <th>4</th>\n",
       "      <td>0</td>\n",
       "    </tr>\n",
       "  </tbody>\n",
       "</table>\n",
       "</div>"
      ],
      "text/plain": [
       "   popularity\n",
       "0          61\n",
       "1          42\n",
       "2          44\n",
       "3          55\n",
       "4           0"
      ]
     },
     "execution_count": 4,
     "metadata": {},
     "output_type": "execute_result"
    }
   ],
   "source": [
    "# read in popularity.csv\n",
    "song_popularity = pd.read_csv('../data/mandopop/popularity.csv')\n",
    "print(song_popularity.shape)\n",
    "song_popularity.head()"
   ]
  },
  {
   "cell_type": "markdown",
   "metadata": {},
   "source": [
    "### Release dates of the songs"
   ]
  },
  {
   "cell_type": "code",
   "execution_count": 5,
   "metadata": {},
   "outputs": [
    {
     "name": "stdout",
     "output_type": "stream",
     "text": [
      "(2410, 1)\n"
     ]
    },
    {
     "data": {
      "text/html": [
       "<div>\n",
       "<style scoped>\n",
       "    .dataframe tbody tr th:only-of-type {\n",
       "        vertical-align: middle;\n",
       "    }\n",
       "\n",
       "    .dataframe tbody tr th {\n",
       "        vertical-align: top;\n",
       "    }\n",
       "\n",
       "    .dataframe thead th {\n",
       "        text-align: right;\n",
       "    }\n",
       "</style>\n",
       "<table border=\"1\" class=\"dataframe\">\n",
       "  <thead>\n",
       "    <tr style=\"text-align: right;\">\n",
       "      <th></th>\n",
       "      <th>release_date</th>\n",
       "    </tr>\n",
       "  </thead>\n",
       "  <tbody>\n",
       "    <tr>\n",
       "      <th>0</th>\n",
       "      <td>2003-07-31</td>\n",
       "    </tr>\n",
       "    <tr>\n",
       "      <th>1</th>\n",
       "      <td>2005-08-12</td>\n",
       "    </tr>\n",
       "    <tr>\n",
       "      <th>2</th>\n",
       "      <td>2006-06-06</td>\n",
       "    </tr>\n",
       "    <tr>\n",
       "      <th>3</th>\n",
       "      <td>2009-12-29</td>\n",
       "    </tr>\n",
       "    <tr>\n",
       "      <th>4</th>\n",
       "      <td>2009</td>\n",
       "    </tr>\n",
       "  </tbody>\n",
       "</table>\n",
       "</div>"
      ],
      "text/plain": [
       "  release_date\n",
       "0   2003-07-31\n",
       "1   2005-08-12\n",
       "2   2006-06-06\n",
       "3   2009-12-29\n",
       "4         2009"
      ]
     },
     "execution_count": 5,
     "metadata": {},
     "output_type": "execute_result"
    }
   ],
   "source": [
    "# read in release_date.csv\n",
    "song_dates = pd.read_csv('../data/mandopop/release_date.csv') \n",
    "print(song_dates.shape)\n",
    "song_dates.head()"
   ]
  },
  {
   "cell_type": "markdown",
   "metadata": {},
   "source": [
    "### Features of the songs"
   ]
  },
  {
   "cell_type": "code",
   "execution_count": 6,
   "metadata": {},
   "outputs": [
    {
     "name": "stdout",
     "output_type": "stream",
     "text": [
      "(2410, 12)\n"
     ]
    },
    {
     "data": {
      "text/html": [
       "<div>\n",
       "<style scoped>\n",
       "    .dataframe tbody tr th:only-of-type {\n",
       "        vertical-align: middle;\n",
       "    }\n",
       "\n",
       "    .dataframe tbody tr th {\n",
       "        vertical-align: top;\n",
       "    }\n",
       "\n",
       "    .dataframe thead th {\n",
       "        text-align: right;\n",
       "    }\n",
       "</style>\n",
       "<table border=\"1\" class=\"dataframe\">\n",
       "  <thead>\n",
       "    <tr style=\"text-align: right;\">\n",
       "      <th></th>\n",
       "      <th>danceability</th>\n",
       "      <th>energy</th>\n",
       "      <th>key</th>\n",
       "      <th>loudness</th>\n",
       "      <th>mode</th>\n",
       "      <th>speechiness</th>\n",
       "      <th>acousticness</th>\n",
       "      <th>instrumentalness</th>\n",
       "      <th>liveness</th>\n",
       "      <th>valence</th>\n",
       "      <th>tempo</th>\n",
       "      <th>duration_ms</th>\n",
       "    </tr>\n",
       "  </thead>\n",
       "  <tbody>\n",
       "    <tr>\n",
       "      <th>0</th>\n",
       "      <td>0.547</td>\n",
       "      <td>0.567</td>\n",
       "      <td>7</td>\n",
       "      <td>-7.295</td>\n",
       "      <td>1</td>\n",
       "      <td>0.0242</td>\n",
       "      <td>0.276</td>\n",
       "      <td>0.000548</td>\n",
       "      <td>0.1040</td>\n",
       "      <td>0.3990</td>\n",
       "      <td>137.130</td>\n",
       "      <td>269747</td>\n",
       "    </tr>\n",
       "    <tr>\n",
       "      <th>1</th>\n",
       "      <td>0.494</td>\n",
       "      <td>0.565</td>\n",
       "      <td>3</td>\n",
       "      <td>-4.958</td>\n",
       "      <td>0</td>\n",
       "      <td>0.0291</td>\n",
       "      <td>0.061</td>\n",
       "      <td>0.000000</td>\n",
       "      <td>0.1210</td>\n",
       "      <td>0.0989</td>\n",
       "      <td>120.026</td>\n",
       "      <td>279893</td>\n",
       "    </tr>\n",
       "    <tr>\n",
       "      <th>2</th>\n",
       "      <td>0.827</td>\n",
       "      <td>0.160</td>\n",
       "      <td>0</td>\n",
       "      <td>-12.729</td>\n",
       "      <td>1</td>\n",
       "      <td>0.0483</td>\n",
       "      <td>0.887</td>\n",
       "      <td>0.000000</td>\n",
       "      <td>0.1050</td>\n",
       "      <td>0.3880</td>\n",
       "      <td>119.891</td>\n",
       "      <td>145440</td>\n",
       "    </tr>\n",
       "    <tr>\n",
       "      <th>3</th>\n",
       "      <td>0.422</td>\n",
       "      <td>0.657</td>\n",
       "      <td>4</td>\n",
       "      <td>-5.274</td>\n",
       "      <td>1</td>\n",
       "      <td>0.0292</td>\n",
       "      <td>0.214</td>\n",
       "      <td>0.000000</td>\n",
       "      <td>0.1290</td>\n",
       "      <td>0.2180</td>\n",
       "      <td>159.957</td>\n",
       "      <td>261560</td>\n",
       "    </tr>\n",
       "    <tr>\n",
       "      <th>4</th>\n",
       "      <td>0.547</td>\n",
       "      <td>0.475</td>\n",
       "      <td>1</td>\n",
       "      <td>-6.613</td>\n",
       "      <td>1</td>\n",
       "      <td>0.0278</td>\n",
       "      <td>0.811</td>\n",
       "      <td>0.000000</td>\n",
       "      <td>0.0722</td>\n",
       "      <td>0.1420</td>\n",
       "      <td>161.965</td>\n",
       "      <td>239560</td>\n",
       "    </tr>\n",
       "  </tbody>\n",
       "</table>\n",
       "</div>"
      ],
      "text/plain": [
       "   danceability  energy  key  loudness  mode  speechiness  acousticness  \\\n",
       "0         0.547   0.567    7    -7.295     1       0.0242         0.276   \n",
       "1         0.494   0.565    3    -4.958     0       0.0291         0.061   \n",
       "2         0.827   0.160    0   -12.729     1       0.0483         0.887   \n",
       "3         0.422   0.657    4    -5.274     1       0.0292         0.214   \n",
       "4         0.547   0.475    1    -6.613     1       0.0278         0.811   \n",
       "\n",
       "   instrumentalness  liveness  valence    tempo  duration_ms  \n",
       "0          0.000548    0.1040   0.3990  137.130       269747  \n",
       "1          0.000000    0.1210   0.0989  120.026       279893  \n",
       "2          0.000000    0.1050   0.3880  119.891       145440  \n",
       "3          0.000000    0.1290   0.2180  159.957       261560  \n",
       "4          0.000000    0.0722   0.1420  161.965       239560  "
      ]
     },
     "execution_count": 6,
     "metadata": {},
     "output_type": "execute_result"
    }
   ],
   "source": [
    "# read \"features.csv\" \n",
    "song_features = pd.read_csv('../data/mandopop/features.csv')\n",
    "song_features = song_features.reset_index() \n",
    "song_features = song_features.drop(columns=['index', 'type', 'id', 'uri', 'track_href', 'analysis_url', 'time_signature'])\n",
    "print(song_features.shape)\n",
    "song_features.head()"
   ]
  },
  {
   "cell_type": "markdown",
   "metadata": {},
   "source": [
    "## Merge Dataframes"
   ]
  },
  {
   "cell_type": "code",
   "execution_count": 7,
   "metadata": {},
   "outputs": [],
   "source": [
    "# merge 5 dataframes\n",
    "df = pd.merge(song_names, song_artists, how='inner', left_index=True, right_index=True)\n",
    "df = df.join(song_popularity)\n",
    "df = df.join(song_dates)\n",
    "df = df.join(song_features)\n",
    "\n",
    "# drop duplicates and missing values\n",
    "df['name'] = df['name'].drop_duplicates()\n",
    "df= df.dropna()\n",
    "df = df.reset_index(drop=True)\n",
    "\n",
    "# covert dates to datetime\n",
    "df['release_date'] = pd.to_datetime(df['release_date'], errors='coerce')\n",
    "\n",
    "# extract year\n",
    "df['year'] = pd.to_datetime(df['release_date']).dt.to_period('Y')\n",
    "\n",
    "# drop dates columns\n",
    "df = df.drop(columns='release_date')"
   ]
  },
  {
   "cell_type": "markdown",
   "metadata": {},
   "source": [
    "### Data Codebook\n",
    "* **name:** The name of the song.\n",
    "* **artists:** The artist(s) of the song.\n",
    "* **popularity:** The popularity of the song.\n",
    "* **danceability:** Danceability describes how suitable a track is for dancing based on a combination of musical elements including tempo, rhythm stability, beat strength, and overall regularity. A value of 0.0 is least danceable and 1.0 is most danceable.\n",
    "* **energy:** Energy is a measure from 0.0 to 1.0 and represents a perceptual measure of intensity and activity. Typically, energetic tracks feel fast, loud, and noisy.\n",
    "* **key:** Key is the major or minor scale around which a piece of music revolves.\n",
    "* **loudness:** The overall loudness of a track in decibels (dB). Loudness values are averaged across the entire track. Values typical range between -60 and 0 db. \n",
    "* **mode:** Mode indicates the modality (major or minor) of a track, the type of scale from which its melodic content is derived.\n",
    "* **speechiness:** Speechiness detects the presence of spoken words in a track. The more exclusively speech-like the recording (e.g. talk show, audio book, poetry), the closer to 1.0 the attribute value.\n",
    "* **acousticness:** A measure from 0.0 to 1.0 of whether the track is acoustic.\n",
    "* **instrumentalness:** Predicts whether a track contains no vocals. The closer the instrumentalness value is to 1.0, the greater likelihood the track contains no vocal content.\n",
    "* **liveness:** Detects the presence of an audience in the recording. Higher liveness values represent an increased probability that the track was performed live.\n",
    "* **valence:** A measure from 0.0 to 1.0 describing the musical positiveness conveyed by a track. Tracks with high valence sound more positive (e.g. happy, cheerful, euphoric), while tracks with low valence sound more negative (e.g. sad, depressed, angry).\n",
    "* **tempo:** The overall estimated tempo of a track in beats per minute (BPM). In musical terminology, tempo is the speed or pace of a given piece and derives directly from the average beat duration.\n",
    "* **duration_ms:** Duration of the song in millisecond.\n",
    "* **year:** The year of the song."
   ]
  },
  {
   "cell_type": "code",
   "execution_count": 8,
   "metadata": {},
   "outputs": [
    {
     "name": "stdout",
     "output_type": "stream",
     "text": [
      "(2039, 16)\n"
     ]
    },
    {
     "data": {
      "text/html": [
       "<div>\n",
       "<style scoped>\n",
       "    .dataframe tbody tr th:only-of-type {\n",
       "        vertical-align: middle;\n",
       "    }\n",
       "\n",
       "    .dataframe tbody tr th {\n",
       "        vertical-align: top;\n",
       "    }\n",
       "\n",
       "    .dataframe thead th {\n",
       "        text-align: right;\n",
       "    }\n",
       "</style>\n",
       "<table border=\"1\" class=\"dataframe\">\n",
       "  <thead>\n",
       "    <tr style=\"text-align: right;\">\n",
       "      <th></th>\n",
       "      <th>name</th>\n",
       "      <th>artists</th>\n",
       "      <th>popularity</th>\n",
       "      <th>danceability</th>\n",
       "      <th>energy</th>\n",
       "      <th>key</th>\n",
       "      <th>loudness</th>\n",
       "      <th>mode</th>\n",
       "      <th>speechiness</th>\n",
       "      <th>acousticness</th>\n",
       "      <th>instrumentalness</th>\n",
       "      <th>liveness</th>\n",
       "      <th>valence</th>\n",
       "      <th>tempo</th>\n",
       "      <th>duration_ms</th>\n",
       "      <th>year</th>\n",
       "    </tr>\n",
       "  </thead>\n",
       "  <tbody>\n",
       "    <tr>\n",
       "      <th>0</th>\n",
       "      <td>晴天</td>\n",
       "      <td>Jay Chou</td>\n",
       "      <td>61</td>\n",
       "      <td>0.547</td>\n",
       "      <td>0.567</td>\n",
       "      <td>7</td>\n",
       "      <td>-7.295</td>\n",
       "      <td>1</td>\n",
       "      <td>0.0242</td>\n",
       "      <td>0.276</td>\n",
       "      <td>0.000548</td>\n",
       "      <td>0.1040</td>\n",
       "      <td>0.3990</td>\n",
       "      <td>137.130</td>\n",
       "      <td>269747</td>\n",
       "      <td>2003</td>\n",
       "    </tr>\n",
       "    <tr>\n",
       "      <th>1</th>\n",
       "      <td>零</td>\n",
       "      <td>Alan Kuo</td>\n",
       "      <td>42</td>\n",
       "      <td>0.494</td>\n",
       "      <td>0.565</td>\n",
       "      <td>3</td>\n",
       "      <td>-4.958</td>\n",
       "      <td>0</td>\n",
       "      <td>0.0291</td>\n",
       "      <td>0.061</td>\n",
       "      <td>0.000000</td>\n",
       "      <td>0.1210</td>\n",
       "      <td>0.0989</td>\n",
       "      <td>120.026</td>\n",
       "      <td>279893</td>\n",
       "      <td>2005</td>\n",
       "    </tr>\n",
       "    <tr>\n",
       "      <th>2</th>\n",
       "      <td>寶貝 (In a Day)</td>\n",
       "      <td>Deserts Chang</td>\n",
       "      <td>44</td>\n",
       "      <td>0.827</td>\n",
       "      <td>0.160</td>\n",
       "      <td>0</td>\n",
       "      <td>-12.729</td>\n",
       "      <td>1</td>\n",
       "      <td>0.0483</td>\n",
       "      <td>0.887</td>\n",
       "      <td>0.000000</td>\n",
       "      <td>0.1050</td>\n",
       "      <td>0.3880</td>\n",
       "      <td>119.891</td>\n",
       "      <td>145440</td>\n",
       "      <td>2006</td>\n",
       "    </tr>\n",
       "    <tr>\n",
       "      <th>3</th>\n",
       "      <td>雨愛</td>\n",
       "      <td>Rainie Yang</td>\n",
       "      <td>55</td>\n",
       "      <td>0.422</td>\n",
       "      <td>0.657</td>\n",
       "      <td>4</td>\n",
       "      <td>-5.274</td>\n",
       "      <td>1</td>\n",
       "      <td>0.0292</td>\n",
       "      <td>0.214</td>\n",
       "      <td>0.000000</td>\n",
       "      <td>0.1290</td>\n",
       "      <td>0.2180</td>\n",
       "      <td>159.957</td>\n",
       "      <td>261560</td>\n",
       "      <td>2009</td>\n",
       "    </tr>\n",
       "    <tr>\n",
       "      <th>4</th>\n",
       "      <td>掉了</td>\n",
       "      <td>A-Mei Chang</td>\n",
       "      <td>0</td>\n",
       "      <td>0.547</td>\n",
       "      <td>0.475</td>\n",
       "      <td>1</td>\n",
       "      <td>-6.613</td>\n",
       "      <td>1</td>\n",
       "      <td>0.0278</td>\n",
       "      <td>0.811</td>\n",
       "      <td>0.000000</td>\n",
       "      <td>0.0722</td>\n",
       "      <td>0.1420</td>\n",
       "      <td>161.965</td>\n",
       "      <td>239560</td>\n",
       "      <td>2009</td>\n",
       "    </tr>\n",
       "  </tbody>\n",
       "</table>\n",
       "</div>"
      ],
      "text/plain": [
       "            name        artists  popularity  danceability  energy  key  \\\n",
       "0             晴天       Jay Chou          61         0.547   0.567    7   \n",
       "1              零       Alan Kuo          42         0.494   0.565    3   \n",
       "2  寶貝 (In a Day)  Deserts Chang          44         0.827   0.160    0   \n",
       "3             雨愛    Rainie Yang          55         0.422   0.657    4   \n",
       "4             掉了    A-Mei Chang           0         0.547   0.475    1   \n",
       "\n",
       "   loudness  mode  speechiness  acousticness  instrumentalness  liveness  \\\n",
       "0    -7.295     1       0.0242         0.276          0.000548    0.1040   \n",
       "1    -4.958     0       0.0291         0.061          0.000000    0.1210   \n",
       "2   -12.729     1       0.0483         0.887          0.000000    0.1050   \n",
       "3    -5.274     1       0.0292         0.214          0.000000    0.1290   \n",
       "4    -6.613     1       0.0278         0.811          0.000000    0.0722   \n",
       "\n",
       "   valence    tempo  duration_ms  year  \n",
       "0   0.3990  137.130       269747  2003  \n",
       "1   0.0989  120.026       279893  2005  \n",
       "2   0.3880  119.891       145440  2006  \n",
       "3   0.2180  159.957       261560  2009  \n",
       "4   0.1420  161.965       239560  2009  "
      ]
     },
     "execution_count": 8,
     "metadata": {},
     "output_type": "execute_result"
    }
   ],
   "source": [
    "# print df\n",
    "print(df.shape)\n",
    "df.head()"
   ]
  },
  {
   "cell_type": "markdown",
   "metadata": {},
   "source": [
    "### Export to CSV"
   ]
  },
  {
   "cell_type": "code",
   "execution_count": 9,
   "metadata": {},
   "outputs": [],
   "source": [
    "# write to csv file\n",
    "df.to_csv('../data/mandopop/mandopop_songs.csv', index=False)"
   ]
  }
 ],
 "metadata": {
  "kernelspec": {
   "display_name": "Python 3",
   "language": "python",
   "name": "python3"
  },
  "language_info": {
   "codemirror_mode": {
    "name": "ipython",
    "version": 3
   },
   "file_extension": ".py",
   "mimetype": "text/x-python",
   "name": "python",
   "nbconvert_exporter": "python",
   "pygments_lexer": "ipython3",
   "version": "3.7.3"
  }
 },
 "nbformat": 4,
 "nbformat_minor": 2
}
