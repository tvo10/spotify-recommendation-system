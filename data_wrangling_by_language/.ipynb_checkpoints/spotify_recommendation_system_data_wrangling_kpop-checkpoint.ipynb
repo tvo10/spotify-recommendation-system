{
 "cells": [
  {
   "cell_type": "markdown",
   "metadata": {},
   "source": [
    "## Introduction\n",
    "All the data are scraped from various playlists in Korean on Spotify. Please see the process [here]()\n",
    "\n",
    "The playlists are:\n",
    "* https://open.spotify.com/playlist/3y9YbrxtaOMTURvMUX6qCn\n",
    "* https://open.spotify.com/playlist/6VPXCgMKWIlQR2hxPTMfiE\n",
    "* https://open.spotify.com/playlist/3kwb1LyzCSsLLacppOJQc8\n",
    "* https://open.spotify.com/playlist/37dtOyRL9xpjbVR9gE0dY3\n",
    "\n",
    "There will be 5 csv files that need to be merged to one dataset, including:\n",
    "* **names.csv:** The names of the songs\n",
    "* **artists.csv:** The artist(s) of the songs\n",
    "* **popularity.csv:** The popularity of the songs\n",
    "* **release_date.csv:** The release dates of the songs\n",
    "* **features.csv:** The features of the songs"
   ]
  },
  {
   "cell_type": "code",
   "execution_count": 1,
   "metadata": {},
   "outputs": [],
   "source": [
    "# import essenstial libraries\n",
    "import pandas as pd\n",
    "import re\n",
    "import numpy as np\n",
    "import json\n",
    "from pandas.io.json import json_normalize"
   ]
  },
  {
   "cell_type": "markdown",
   "metadata": {},
   "source": [
    "### Names of the songs"
   ]
  },
  {
   "cell_type": "code",
   "execution_count": 2,
   "metadata": {},
   "outputs": [
    {
     "name": "stdout",
     "output_type": "stream",
     "text": [
      "(2660, 1)\n"
     ]
    },
    {
     "data": {
      "text/html": [
       "<div>\n",
       "<style scoped>\n",
       "    .dataframe tbody tr th:only-of-type {\n",
       "        vertical-align: middle;\n",
       "    }\n",
       "\n",
       "    .dataframe tbody tr th {\n",
       "        vertical-align: top;\n",
       "    }\n",
       "\n",
       "    .dataframe thead th {\n",
       "        text-align: right;\n",
       "    }\n",
       "</style>\n",
       "<table border=\"1\" class=\"dataframe\">\n",
       "  <thead>\n",
       "    <tr style=\"text-align: right;\">\n",
       "      <th></th>\n",
       "      <th>name</th>\n",
       "    </tr>\n",
       "  </thead>\n",
       "  <tbody>\n",
       "    <tr>\n",
       "      <th>0</th>\n",
       "      <td>How can I love the heartbreak, you`re the one ...</td>\n",
       "    </tr>\n",
       "    <tr>\n",
       "      <th>1</th>\n",
       "      <td>All about you</td>\n",
       "    </tr>\n",
       "    <tr>\n",
       "      <th>2</th>\n",
       "      <td>Can You See My Heart</td>\n",
       "    </tr>\n",
       "    <tr>\n",
       "      <th>3</th>\n",
       "      <td>At the end</td>\n",
       "    </tr>\n",
       "    <tr>\n",
       "      <th>4</th>\n",
       "      <td>All with You</td>\n",
       "    </tr>\n",
       "  </tbody>\n",
       "</table>\n",
       "</div>"
      ],
      "text/plain": [
       "                                                name\n",
       "0  How can I love the heartbreak, you`re the one ...\n",
       "1                                      All about you\n",
       "2                               Can You See My Heart\n",
       "3                                         At the end\n",
       "4                                       All with You"
      ]
     },
     "execution_count": 2,
     "metadata": {},
     "output_type": "execute_result"
    }
   ],
   "source": [
    "# read in names.csv\n",
    "song_names = pd.read_csv('../data/kpop/names.csv')\n",
    "print(song_names.shape)\n",
    "song_names.head()"
   ]
  },
  {
   "cell_type": "markdown",
   "metadata": {},
   "source": [
    "### Artists of the songs"
   ]
  },
  {
   "cell_type": "code",
   "execution_count": 3,
   "metadata": {},
   "outputs": [
    {
     "name": "stdout",
     "output_type": "stream",
     "text": [
      "(2660, 1)\n"
     ]
    },
    {
     "data": {
      "text/html": [
       "<div>\n",
       "<style scoped>\n",
       "    .dataframe tbody tr th:only-of-type {\n",
       "        vertical-align: middle;\n",
       "    }\n",
       "\n",
       "    .dataframe tbody tr th {\n",
       "        vertical-align: top;\n",
       "    }\n",
       "\n",
       "    .dataframe thead th {\n",
       "        text-align: right;\n",
       "    }\n",
       "</style>\n",
       "<table border=\"1\" class=\"dataframe\">\n",
       "  <thead>\n",
       "    <tr style=\"text-align: right;\">\n",
       "      <th></th>\n",
       "      <th>artists</th>\n",
       "    </tr>\n",
       "  </thead>\n",
       "  <tbody>\n",
       "    <tr>\n",
       "      <th>0</th>\n",
       "      <td>AKMU</td>\n",
       "    </tr>\n",
       "    <tr>\n",
       "      <th>1</th>\n",
       "      <td>TAEYEON</td>\n",
       "    </tr>\n",
       "    <tr>\n",
       "      <th>2</th>\n",
       "      <td>HEIZE</td>\n",
       "    </tr>\n",
       "    <tr>\n",
       "      <th>3</th>\n",
       "      <td>CHUNG HA</td>\n",
       "    </tr>\n",
       "    <tr>\n",
       "      <th>4</th>\n",
       "      <td>TAEYEON</td>\n",
       "    </tr>\n",
       "  </tbody>\n",
       "</table>\n",
       "</div>"
      ],
      "text/plain": [
       "    artists\n",
       "0      AKMU\n",
       "1   TAEYEON\n",
       "2     HEIZE\n",
       "3  CHUNG HA\n",
       "4   TAEYEON"
      ]
     },
     "execution_count": 3,
     "metadata": {},
     "output_type": "execute_result"
    }
   ],
   "source": [
    "# read in artists.csv\n",
    "song_artists = pd.read_csv('../data/kpop/artists.csv') \n",
    "print(song_artists.shape)\n",
    "song_artists.head()"
   ]
  },
  {
   "cell_type": "markdown",
   "metadata": {},
   "source": [
    "### Popularity of the songs"
   ]
  },
  {
   "cell_type": "code",
   "execution_count": 4,
   "metadata": {},
   "outputs": [
    {
     "name": "stdout",
     "output_type": "stream",
     "text": [
      "(2660, 1)\n"
     ]
    },
    {
     "data": {
      "text/html": [
       "<div>\n",
       "<style scoped>\n",
       "    .dataframe tbody tr th:only-of-type {\n",
       "        vertical-align: middle;\n",
       "    }\n",
       "\n",
       "    .dataframe tbody tr th {\n",
       "        vertical-align: top;\n",
       "    }\n",
       "\n",
       "    .dataframe thead th {\n",
       "        text-align: right;\n",
       "    }\n",
       "</style>\n",
       "<table border=\"1\" class=\"dataframe\">\n",
       "  <thead>\n",
       "    <tr style=\"text-align: right;\">\n",
       "      <th></th>\n",
       "      <th>popularity</th>\n",
       "    </tr>\n",
       "  </thead>\n",
       "  <tbody>\n",
       "    <tr>\n",
       "      <th>0</th>\n",
       "      <td>12</td>\n",
       "    </tr>\n",
       "    <tr>\n",
       "      <th>1</th>\n",
       "      <td>67</td>\n",
       "    </tr>\n",
       "    <tr>\n",
       "      <th>2</th>\n",
       "      <td>65</td>\n",
       "    </tr>\n",
       "    <tr>\n",
       "      <th>3</th>\n",
       "      <td>55</td>\n",
       "    </tr>\n",
       "    <tr>\n",
       "      <th>4</th>\n",
       "      <td>56</td>\n",
       "    </tr>\n",
       "  </tbody>\n",
       "</table>\n",
       "</div>"
      ],
      "text/plain": [
       "   popularity\n",
       "0          12\n",
       "1          67\n",
       "2          65\n",
       "3          55\n",
       "4          56"
      ]
     },
     "execution_count": 4,
     "metadata": {},
     "output_type": "execute_result"
    }
   ],
   "source": [
    "# read in popularity.csv\n",
    "song_popularity = pd.read_csv('../data/kpop/popularity.csv')\n",
    "print(song_popularity.shape)\n",
    "song_popularity.head()"
   ]
  },
  {
   "cell_type": "markdown",
   "metadata": {},
   "source": [
    "### Release dates of the songs"
   ]
  },
  {
   "cell_type": "code",
   "execution_count": 5,
   "metadata": {},
   "outputs": [
    {
     "name": "stdout",
     "output_type": "stream",
     "text": [
      "(2660, 1)\n"
     ]
    },
    {
     "data": {
      "text/html": [
       "<div>\n",
       "<style scoped>\n",
       "    .dataframe tbody tr th:only-of-type {\n",
       "        vertical-align: middle;\n",
       "    }\n",
       "\n",
       "    .dataframe tbody tr th {\n",
       "        vertical-align: top;\n",
       "    }\n",
       "\n",
       "    .dataframe thead th {\n",
       "        text-align: right;\n",
       "    }\n",
       "</style>\n",
       "<table border=\"1\" class=\"dataframe\">\n",
       "  <thead>\n",
       "    <tr style=\"text-align: right;\">\n",
       "      <th></th>\n",
       "      <th>release_date</th>\n",
       "    </tr>\n",
       "  </thead>\n",
       "  <tbody>\n",
       "    <tr>\n",
       "      <th>0</th>\n",
       "      <td>2019-09-25</td>\n",
       "    </tr>\n",
       "    <tr>\n",
       "      <th>1</th>\n",
       "      <td>2019-07-21</td>\n",
       "    </tr>\n",
       "    <tr>\n",
       "      <th>2</th>\n",
       "      <td>2019-07-28</td>\n",
       "    </tr>\n",
       "    <tr>\n",
       "      <th>3</th>\n",
       "      <td>2019-08-03</td>\n",
       "    </tr>\n",
       "    <tr>\n",
       "      <th>4</th>\n",
       "      <td>2016-09-13</td>\n",
       "    </tr>\n",
       "  </tbody>\n",
       "</table>\n",
       "</div>"
      ],
      "text/plain": [
       "  release_date\n",
       "0   2019-09-25\n",
       "1   2019-07-21\n",
       "2   2019-07-28\n",
       "3   2019-08-03\n",
       "4   2016-09-13"
      ]
     },
     "execution_count": 5,
     "metadata": {},
     "output_type": "execute_result"
    }
   ],
   "source": [
    "# read in release_date.csv\n",
    "song_dates = pd.read_csv('../data/kpop/release_date.csv') \n",
    "print(song_dates.shape)\n",
    "song_dates.head()"
   ]
  },
  {
   "cell_type": "markdown",
   "metadata": {},
   "source": [
    "### Features of the songs"
   ]
  },
  {
   "cell_type": "code",
   "execution_count": 6,
   "metadata": {},
   "outputs": [
    {
     "name": "stdout",
     "output_type": "stream",
     "text": [
      "(2410, 12)\n"
     ]
    },
    {
     "data": {
      "text/html": [
       "<div>\n",
       "<style scoped>\n",
       "    .dataframe tbody tr th:only-of-type {\n",
       "        vertical-align: middle;\n",
       "    }\n",
       "\n",
       "    .dataframe tbody tr th {\n",
       "        vertical-align: top;\n",
       "    }\n",
       "\n",
       "    .dataframe thead th {\n",
       "        text-align: right;\n",
       "    }\n",
       "</style>\n",
       "<table border=\"1\" class=\"dataframe\">\n",
       "  <thead>\n",
       "    <tr style=\"text-align: right;\">\n",
       "      <th></th>\n",
       "      <th>danceability</th>\n",
       "      <th>energy</th>\n",
       "      <th>key</th>\n",
       "      <th>loudness</th>\n",
       "      <th>mode</th>\n",
       "      <th>speechiness</th>\n",
       "      <th>acousticness</th>\n",
       "      <th>instrumentalness</th>\n",
       "      <th>liveness</th>\n",
       "      <th>valence</th>\n",
       "      <th>tempo</th>\n",
       "      <th>duration_ms</th>\n",
       "    </tr>\n",
       "  </thead>\n",
       "  <tbody>\n",
       "    <tr>\n",
       "      <th>0</th>\n",
       "      <td>0.547</td>\n",
       "      <td>0.567</td>\n",
       "      <td>7</td>\n",
       "      <td>-7.295</td>\n",
       "      <td>1</td>\n",
       "      <td>0.0242</td>\n",
       "      <td>0.276</td>\n",
       "      <td>0.000548</td>\n",
       "      <td>0.1040</td>\n",
       "      <td>0.3990</td>\n",
       "      <td>137.130</td>\n",
       "      <td>269747</td>\n",
       "    </tr>\n",
       "    <tr>\n",
       "      <th>1</th>\n",
       "      <td>0.494</td>\n",
       "      <td>0.565</td>\n",
       "      <td>3</td>\n",
       "      <td>-4.958</td>\n",
       "      <td>0</td>\n",
       "      <td>0.0291</td>\n",
       "      <td>0.061</td>\n",
       "      <td>0.000000</td>\n",
       "      <td>0.1210</td>\n",
       "      <td>0.0989</td>\n",
       "      <td>120.026</td>\n",
       "      <td>279893</td>\n",
       "    </tr>\n",
       "    <tr>\n",
       "      <th>2</th>\n",
       "      <td>0.827</td>\n",
       "      <td>0.160</td>\n",
       "      <td>0</td>\n",
       "      <td>-12.729</td>\n",
       "      <td>1</td>\n",
       "      <td>0.0483</td>\n",
       "      <td>0.887</td>\n",
       "      <td>0.000000</td>\n",
       "      <td>0.1050</td>\n",
       "      <td>0.3880</td>\n",
       "      <td>119.891</td>\n",
       "      <td>145440</td>\n",
       "    </tr>\n",
       "    <tr>\n",
       "      <th>3</th>\n",
       "      <td>0.422</td>\n",
       "      <td>0.657</td>\n",
       "      <td>4</td>\n",
       "      <td>-5.274</td>\n",
       "      <td>1</td>\n",
       "      <td>0.0292</td>\n",
       "      <td>0.214</td>\n",
       "      <td>0.000000</td>\n",
       "      <td>0.1290</td>\n",
       "      <td>0.2180</td>\n",
       "      <td>159.957</td>\n",
       "      <td>261560</td>\n",
       "    </tr>\n",
       "    <tr>\n",
       "      <th>4</th>\n",
       "      <td>0.547</td>\n",
       "      <td>0.475</td>\n",
       "      <td>1</td>\n",
       "      <td>-6.613</td>\n",
       "      <td>1</td>\n",
       "      <td>0.0278</td>\n",
       "      <td>0.811</td>\n",
       "      <td>0.000000</td>\n",
       "      <td>0.0722</td>\n",
       "      <td>0.1420</td>\n",
       "      <td>161.965</td>\n",
       "      <td>239560</td>\n",
       "    </tr>\n",
       "  </tbody>\n",
       "</table>\n",
       "</div>"
      ],
      "text/plain": [
       "   danceability  energy  key  loudness  mode  speechiness  acousticness  \\\n",
       "0         0.547   0.567    7    -7.295     1       0.0242         0.276   \n",
       "1         0.494   0.565    3    -4.958     0       0.0291         0.061   \n",
       "2         0.827   0.160    0   -12.729     1       0.0483         0.887   \n",
       "3         0.422   0.657    4    -5.274     1       0.0292         0.214   \n",
       "4         0.547   0.475    1    -6.613     1       0.0278         0.811   \n",
       "\n",
       "   instrumentalness  liveness  valence    tempo  duration_ms  \n",
       "0          0.000548    0.1040   0.3990  137.130       269747  \n",
       "1          0.000000    0.1210   0.0989  120.026       279893  \n",
       "2          0.000000    0.1050   0.3880  119.891       145440  \n",
       "3          0.000000    0.1290   0.2180  159.957       261560  \n",
       "4          0.000000    0.0722   0.1420  161.965       239560  "
      ]
     },
     "execution_count": 6,
     "metadata": {},
     "output_type": "execute_result"
    }
   ],
   "source": [
    "# read \"features.csv\" \n",
    "song_features = pd.read_csv('../data/mandopop/features.csv')\n",
    "song_features = song_features.reset_index() \n",
    "song_features = song_features.drop(columns=['index', 'type', 'id', 'uri', 'track_href', 'analysis_url', 'time_signature'])\n",
    "print(song_features.shape)\n",
    "song_features.head()"
   ]
  },
  {
   "cell_type": "markdown",
   "metadata": {},
   "source": [
    "## Merge Dataframes"
   ]
  },
  {
   "cell_type": "code",
   "execution_count": 7,
   "metadata": {},
   "outputs": [],
   "source": [
    "# merge 5 dataframes\n",
    "df = pd.merge(song_names, song_artists, how='inner', left_index=True, right_index=True)\n",
    "df = df.join(song_popularity)\n",
    "df = df.join(song_dates)\n",
    "df = df.join(song_features)\n",
    "\n",
    "# drop duplicates and missing values\n",
    "df['name'] = df['name'].drop_duplicates()\n",
    "df= df.dropna()\n",
    "df = df.reset_index(drop=True)\n",
    "\n",
    "# covert dates to datetime\n",
    "df['release_date'] = pd.to_datetime(df['release_date'], errors='coerce')\n",
    "\n",
    "# extract year\n",
    "df['year'] = pd.to_datetime(df['release_date']).dt.to_period('Y')\n",
    "\n",
    "# drop dates columns\n",
    "df = df.drop(columns='release_date')"
   ]
  },
  {
   "cell_type": "markdown",
   "metadata": {},
   "source": [
    "### Data Codebook:\n",
    "* **name:** The name of the song.\n",
    "* **artists:** The artist(s) of the song.\n",
    "* **popularity:** The popularity of the song.\n",
    "* **danceability:** Danceability describes how suitable a track is for dancing based on a combination of musical elements including tempo, rhythm stability, beat strength, and overall regularity. A value of 0.0 is least danceable and 1.0 is most danceable.\n",
    "* **energy:** Energy is a measure from 0.0 to 1.0 and represents a perceptual measure of intensity and activity. Typically, energetic tracks feel fast, loud, and noisy.\n",
    "* **key:** Key is the major or minor scale around which a piece of music revolves.\n",
    "* **loudness:** The overall loudness of a track in decibels (dB). Loudness values are averaged across the entire track. Values typical range between -60 and 0 db. \n",
    "* **mode:** Mode indicates the modality (major or minor) of a track, the type of scale from which its melodic content is derived.\n",
    "* **speechiness:** Speechiness detects the presence of spoken words in a track. The more exclusively speech-like the recording (e.g. talk show, audio book, poetry), the closer to 1.0 the attribute value.\n",
    "* **acousticness:** A measure from 0.0 to 1.0 of whether the track is acoustic.\n",
    "* **instrumentalness:** Predicts whether a track contains no vocals. The closer the instrumentalness value is to 1.0, the greater likelihood the track contains no vocal content.\n",
    "* **liveness:** Detects the presence of an audience in the recording. Higher liveness values represent an increased probability that the track was performed live.\n",
    "* **valence:** A measure from 0.0 to 1.0 describing the musical positiveness conveyed by a track. Tracks with high valence sound more positive (e.g. happy, cheerful, euphoric), while tracks with low valence sound more negative (e.g. sad, depressed, angry).\n",
    "* **tempo:** The overall estimated tempo of a track in beats per minute (BPM). In musical terminology, tempo is the speed or pace of a given piece and derives directly from the average beat duration.\n",
    "* **duration_ms:** Duration of the song in millisecond.\n",
    "* **year:** The year of the song."
   ]
  },
  {
   "cell_type": "code",
   "execution_count": 8,
   "metadata": {},
   "outputs": [
    {
     "name": "stdout",
     "output_type": "stream",
     "text": [
      "(2076, 16)\n"
     ]
    },
    {
     "data": {
      "text/html": [
       "<div>\n",
       "<style scoped>\n",
       "    .dataframe tbody tr th:only-of-type {\n",
       "        vertical-align: middle;\n",
       "    }\n",
       "\n",
       "    .dataframe tbody tr th {\n",
       "        vertical-align: top;\n",
       "    }\n",
       "\n",
       "    .dataframe thead th {\n",
       "        text-align: right;\n",
       "    }\n",
       "</style>\n",
       "<table border=\"1\" class=\"dataframe\">\n",
       "  <thead>\n",
       "    <tr style=\"text-align: right;\">\n",
       "      <th></th>\n",
       "      <th>name</th>\n",
       "      <th>artists</th>\n",
       "      <th>popularity</th>\n",
       "      <th>danceability</th>\n",
       "      <th>energy</th>\n",
       "      <th>key</th>\n",
       "      <th>loudness</th>\n",
       "      <th>mode</th>\n",
       "      <th>speechiness</th>\n",
       "      <th>acousticness</th>\n",
       "      <th>instrumentalness</th>\n",
       "      <th>liveness</th>\n",
       "      <th>valence</th>\n",
       "      <th>tempo</th>\n",
       "      <th>duration_ms</th>\n",
       "      <th>year</th>\n",
       "    </tr>\n",
       "  </thead>\n",
       "  <tbody>\n",
       "    <tr>\n",
       "      <th>0</th>\n",
       "      <td>How can I love the heartbreak, you`re the one ...</td>\n",
       "      <td>AKMU</td>\n",
       "      <td>12</td>\n",
       "      <td>0.547</td>\n",
       "      <td>0.567</td>\n",
       "      <td>7.0</td>\n",
       "      <td>-7.295</td>\n",
       "      <td>1.0</td>\n",
       "      <td>0.0242</td>\n",
       "      <td>0.276</td>\n",
       "      <td>0.000548</td>\n",
       "      <td>0.1040</td>\n",
       "      <td>0.3990</td>\n",
       "      <td>137.130</td>\n",
       "      <td>269747.0</td>\n",
       "      <td>2019</td>\n",
       "    </tr>\n",
       "    <tr>\n",
       "      <th>1</th>\n",
       "      <td>All about you</td>\n",
       "      <td>TAEYEON</td>\n",
       "      <td>67</td>\n",
       "      <td>0.494</td>\n",
       "      <td>0.565</td>\n",
       "      <td>3.0</td>\n",
       "      <td>-4.958</td>\n",
       "      <td>0.0</td>\n",
       "      <td>0.0291</td>\n",
       "      <td>0.061</td>\n",
       "      <td>0.000000</td>\n",
       "      <td>0.1210</td>\n",
       "      <td>0.0989</td>\n",
       "      <td>120.026</td>\n",
       "      <td>279893.0</td>\n",
       "      <td>2019</td>\n",
       "    </tr>\n",
       "    <tr>\n",
       "      <th>2</th>\n",
       "      <td>Can You See My Heart</td>\n",
       "      <td>HEIZE</td>\n",
       "      <td>65</td>\n",
       "      <td>0.827</td>\n",
       "      <td>0.160</td>\n",
       "      <td>0.0</td>\n",
       "      <td>-12.729</td>\n",
       "      <td>1.0</td>\n",
       "      <td>0.0483</td>\n",
       "      <td>0.887</td>\n",
       "      <td>0.000000</td>\n",
       "      <td>0.1050</td>\n",
       "      <td>0.3880</td>\n",
       "      <td>119.891</td>\n",
       "      <td>145440.0</td>\n",
       "      <td>2019</td>\n",
       "    </tr>\n",
       "    <tr>\n",
       "      <th>3</th>\n",
       "      <td>At the end</td>\n",
       "      <td>CHUNG HA</td>\n",
       "      <td>55</td>\n",
       "      <td>0.422</td>\n",
       "      <td>0.657</td>\n",
       "      <td>4.0</td>\n",
       "      <td>-5.274</td>\n",
       "      <td>1.0</td>\n",
       "      <td>0.0292</td>\n",
       "      <td>0.214</td>\n",
       "      <td>0.000000</td>\n",
       "      <td>0.1290</td>\n",
       "      <td>0.2180</td>\n",
       "      <td>159.957</td>\n",
       "      <td>261560.0</td>\n",
       "      <td>2019</td>\n",
       "    </tr>\n",
       "    <tr>\n",
       "      <th>4</th>\n",
       "      <td>All with You</td>\n",
       "      <td>TAEYEON</td>\n",
       "      <td>56</td>\n",
       "      <td>0.547</td>\n",
       "      <td>0.475</td>\n",
       "      <td>1.0</td>\n",
       "      <td>-6.613</td>\n",
       "      <td>1.0</td>\n",
       "      <td>0.0278</td>\n",
       "      <td>0.811</td>\n",
       "      <td>0.000000</td>\n",
       "      <td>0.0722</td>\n",
       "      <td>0.1420</td>\n",
       "      <td>161.965</td>\n",
       "      <td>239560.0</td>\n",
       "      <td>2016</td>\n",
       "    </tr>\n",
       "  </tbody>\n",
       "</table>\n",
       "</div>"
      ],
      "text/plain": [
       "                                                name   artists  popularity  \\\n",
       "0  How can I love the heartbreak, you`re the one ...      AKMU          12   \n",
       "1                                      All about you   TAEYEON          67   \n",
       "2                               Can You See My Heart     HEIZE          65   \n",
       "3                                         At the end  CHUNG HA          55   \n",
       "4                                       All with You   TAEYEON          56   \n",
       "\n",
       "   danceability  energy  key  loudness  mode  speechiness  acousticness  \\\n",
       "0         0.547   0.567  7.0    -7.295   1.0       0.0242         0.276   \n",
       "1         0.494   0.565  3.0    -4.958   0.0       0.0291         0.061   \n",
       "2         0.827   0.160  0.0   -12.729   1.0       0.0483         0.887   \n",
       "3         0.422   0.657  4.0    -5.274   1.0       0.0292         0.214   \n",
       "4         0.547   0.475  1.0    -6.613   1.0       0.0278         0.811   \n",
       "\n",
       "   instrumentalness  liveness  valence    tempo  duration_ms  year  \n",
       "0          0.000548    0.1040   0.3990  137.130     269747.0  2019  \n",
       "1          0.000000    0.1210   0.0989  120.026     279893.0  2019  \n",
       "2          0.000000    0.1050   0.3880  119.891     145440.0  2019  \n",
       "3          0.000000    0.1290   0.2180  159.957     261560.0  2019  \n",
       "4          0.000000    0.0722   0.1420  161.965     239560.0  2016  "
      ]
     },
     "execution_count": 8,
     "metadata": {},
     "output_type": "execute_result"
    }
   ],
   "source": [
    "# print df\n",
    "print(df.shape)\n",
    "df.head()"
   ]
  },
  {
   "cell_type": "markdown",
   "metadata": {},
   "source": [
    "## Export to CSV"
   ]
  },
  {
   "cell_type": "code",
   "execution_count": 9,
   "metadata": {},
   "outputs": [],
   "source": [
    "# write to csv file\n",
    "df.to_csv('../data/kpop/kpop_songs.csv', index=False)"
   ]
  }
 ],
 "metadata": {
  "kernelspec": {
   "display_name": "Python 3",
   "language": "python",
   "name": "python3"
  },
  "language_info": {
   "codemirror_mode": {
    "name": "ipython",
    "version": 3
   },
   "file_extension": ".py",
   "mimetype": "text/x-python",
   "name": "python",
   "nbconvert_exporter": "python",
   "pygments_lexer": "ipython3",
   "version": "3.7.3"
  }
 },
 "nbformat": 4,
 "nbformat_minor": 2
}
