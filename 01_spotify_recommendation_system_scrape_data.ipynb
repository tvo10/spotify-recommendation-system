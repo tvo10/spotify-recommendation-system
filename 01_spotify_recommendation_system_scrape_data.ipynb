{
 "cells": [
  {
   "cell_type": "markdown",
   "metadata": {},
   "source": [
    "## Introduction\n",
    "In this notebook, we define a class **GetMeta()** to get all metadata of a song from Spotify, including:\n",
    "* `name`\n",
    "* `artists`\n",
    "* `popularity`\n",
    "* `genre`\n",
    "* `release date`\n",
    "* `features`: `popularity`, `danceability`, `energy`, `key`, `loudness`, `mode`, `speechiness`, `acousticness`, `instrumentalness`, `liveness`, `valence`, `tempo`, `duration_ms`.\n",
    "* `lyrics`\n",
    "\n",
    "**GetMeta()** has been adapted from:\n",
    "* https://towardsdatascience.com/become-a-lyrical-genius-4362e7710e43?gi=d438aadd83e9\n",
    "* https://github.com/christianlomboy/MIR-Genre-Predictor/blob/master/MIR_data_collection.ipynb\n",
    "\n",
    "To get a song's popularity, release date, genre, and features, I personally added four functions: **get_track_popularity()**, **get_track_dates()**, **get_track_genres()**, **get_track_features()**."
   ]
  },
  {
   "cell_type": "code",
   "execution_count": null,
   "metadata": {},
   "outputs": [],
   "source": [
    "# import libraries\n",
    "import spotipy \n",
    "from spotipy.oauth2 import SpotifyClientCredentials\n",
    "import requests\n",
    "from bs4 import BeautifulSoup\n",
    "import json\n",
    "import re\n",
    "import pandas as pd \n",
    "import os.path\n",
    "from os import path"
   ]
  },
  {
   "cell_type": "markdown",
   "metadata": {},
   "source": [
    "## Scrape Metadata"
   ]
  },
  {
   "cell_type": "code",
   "execution_count": null,
   "metadata": {},
   "outputs": [],
   "source": [
    "# adapted from https://towardsdatascience.com/become-a-lyrical-genius-4362e7710e43?gi=d438aadd83e9\n",
    "# and https://github.com/christianlomboy/MIR-Genre-Predictor/blob/master/MIR_data_collection.ipynb\n",
    "\n",
    "class GetMeta():\n",
    "    def __init__(self, spotify_client_id, spotify_client_secret, user_id, playlist_id, genius_key):\n",
    "        self.spotify_client_id = spotify_client_id\n",
    "        self.spotify_client_secret = spotify_client_secret\n",
    "        self.user_id = user_id\n",
    "        self.playlist_id = playlist_id\n",
    "        self.genius_key = genius_key\n",
    "    \n",
    "    # get info for the playlist\n",
    "    def get_playlist_info(self):\n",
    "        token = SpotifyClientCredentials(client_id=self.spotify_client_id, client_secret=self.spotify_client_secret).get_access_token()\n",
    "        sp = spotipy.Spotify(token)\n",
    "        playlist = sp.user_playlist_tracks(self.user_id, self.playlist_id)\n",
    "        tracks = playlist['items']\n",
    "        while playlist['next']:\n",
    "            playlist = sp.next(playlist)\n",
    "            tracks.extend(playlist['items'])\n",
    "        self.tracks = tracks\n",
    "        self.playlist = playlist\n",
    "        return self.tracks\n",
    "    \n",
    "    # get the name of a track\n",
    "    def get_track_names(self):\n",
    "        track_names = []\n",
    "        for song in range(len(self.tracks)):\n",
    "            track_names.append(self.tracks[song]['track']['name'])\n",
    "        self.track_names = track_names\n",
    "        return self.track_names\n",
    "    \n",
    "    # get artist(s) of a track\n",
    "    def get_track_artists(self):\n",
    "        track_artists = []\n",
    "        for song in range(len(self.tracks)):\n",
    "            track_artists.append(self.tracks[song]['track']['artists'][0]['name'])\n",
    "        self.track_artists = track_artists\n",
    "        return self.track_artists\n",
    "    \n",
    "    # get the popularity of a track\n",
    "    def get_track_popularity(self):\n",
    "        track_popularity = []\n",
    "        for song in range(len(self.tracks)):\n",
    "            track_popularity.append(self.tracks[song]['track']['popularity'])\n",
    "        self.track_popularity = track_popularity\n",
    "        return self.track_popularity\n",
    "    \n",
    "    # get the release date of a track\n",
    "    def get_track_dates(self):\n",
    "        token = SpotifyClientCredentials(client_id=self.spotify_client_id, client_secret=self.spotify_client_secret).get_access_token()\n",
    "        sp = spotipy.Spotify(token)\n",
    "        track_dates = []\n",
    "        for song in range(len(self.tracks)):\n",
    "            track_dates.append(sp.album(self.tracks[song]['track']['album']['id'])['release_date'])\n",
    "        self.track_dates = track_dates\n",
    "        return self.track_dates\n",
    "    \n",
    "    # get a genre of an artist\n",
    "    def get_track_genres(self):\n",
    "        token = SpotifyClientCredentials(client_id=self.spotify_client_id, client_secret=self.spotify_client_secret).get_access_token()\n",
    "        sp = spotipy.Spotify(token)\n",
    "        track_genres = []\n",
    "        for song in range(len(self.tracks)):\n",
    "            track_genres.append(sp.artist(self.tracks[song]['track']['artists'][0]['id'])['genres'])\n",
    "        self.track_genres = track_genres\n",
    "        return self.track_genres\n",
    "    \n",
    "    # get all features of a track\n",
    "    def get_track_features(self):\n",
    "        token = SpotifyClientCredentials(client_id=self.spotify_client_id, client_secret=self.spotify_client_secret).get_access_token()\n",
    "        sp = spotipy.Spotify(token)\n",
    "        track_features = []\n",
    "        for song in range(len(self.tracks)):\n",
    "            track_features.append(sp.audio_features(tracks = self.tracks[song]['track']['id']))\n",
    "        self.track_features = track_features\n",
    "        return self.track_features\n",
    "    \n",
    "    ## the below functions are for getting lyrics from genius.com\n",
    "    # get info of the song\n",
    "    def request_song_info(self, track_name, track_artist):\n",
    "        self.track_name = track_name\n",
    "        self.track_artist = track_artist\n",
    "        base_url = 'https://api.genius.com'\n",
    "        headers = {'Authorization': 'Bearer ' + self.genius_key}\n",
    "        search_url = base_url + '/search'\n",
    "        data = {'q': track_name + ' ' + track_artist}\n",
    "        response = requests.get(search_url, data=data, headers=headers)\n",
    "        self.response = response\n",
    "        return self.response\n",
    "\n",
    "    # check whether the song exists in the database\n",
    "    def check_hits(self):\n",
    "        json = self.response.json()\n",
    "        remote_song_info = None\n",
    "        for hit in json['response']['hits']:\n",
    "            if self.track_artist.lower() in hit['result']['primary_artist']['name'].lower():\n",
    "                remote_song_info = hit\n",
    "                break\n",
    "        self.remote_song_info = remote_song_info\n",
    "        return self.remote_song_info\n",
    "    \n",
    "    # get the url \n",
    "    def get_url(self):\n",
    "        song_url = self.remote_song_info['result']['url']\n",
    "        self.song_url = song_url\n",
    "        return self.song_url\n",
    "    \n",
    "    # scrape the lyrics\n",
    "    def scrape_lyrics(self):\n",
    "        page = requests.get(self.song_url)\n",
    "        html = BeautifulSoup(page.text, 'html.parser')\n",
    "        lyrics1 = html.find(\"div\", class_=\"lyrics\")\n",
    "        lyrics2 = html.find(\"div\", class_=\"Lyrics__Container-sc-1ynbvzw-2 jgQsqn\")\n",
    "        if lyrics1:\n",
    "            lyrics = lyrics1.get_text()\n",
    "        elif lyrics2:\n",
    "            lyrics = lyrics2.get_text()\n",
    "        elif lyrics1 == lyrics2 == None:\n",
    "            lyrics = None\n",
    "        return lyrics\n",
    "\n",
    "    # get the lyrics\n",
    "    def get_lyrics(self):\n",
    "        playlist = GetMeta.get_playlist_info(self)\n",
    "        track_names = GetMeta.get_track_names(self)\n",
    "        track_artists = GetMeta.get_track_artists(self)\n",
    "        song_lyrics = []\n",
    "        for i in range(len(self.track_names)):\n",
    "            print(f\"Working on track {i}.\")\n",
    "            response = GetMeta.request_song_info(self, self.track_names[i], self.track_artists[i])\n",
    "            remote_song_info = GetMeta.check_hits(self)\n",
    "            if remote_song_info == None:\n",
    "                lyrics = 'None'\n",
    "                print(f\"Track {i} is not in the Genius database.\")\n",
    "            else:\n",
    "                url = GetMeta.get_url(self)\n",
    "                lyrics = GetMeta.scrape_lyrics(self)\n",
    "                if lyrics == None:\n",
    "                    lyrics = 'None'\n",
    "                    print(f\"Track {i} is not in the Genius database.\")\n",
    "                else:\n",
    "                    print(f\"Retrieved track {i} lyrics!\")\n",
    "            song_lyrics.append(lyrics)\n",
    "        return song_lyrics"
   ]
  },
  {
   "cell_type": "code",
   "execution_count": null,
   "metadata": {},
   "outputs": [],
   "source": [
    "# client_id, client_secret, genius_key\n",
    "genius_key = '__'\n",
    "spotify_client_id = '__'\n",
    "spotify_client_secret = '__'\n",
    "spotify_user_id = '__'\n",
    "spotify_playlist_id = '__'\n",
    "songs = GetMeta(spotify_client_id, spotify_client_secret, spotify_user_id, spotify_playlist_id, genius_key)"
   ]
  },
  {
   "cell_type": "code",
   "execution_count": null,
   "metadata": {},
   "outputs": [],
   "source": [
    "# start to scrape all metadata by executing get_lyrics()\n",
    "song_lyrics = songs.get_lyrics()"
   ]
  },
  {
   "cell_type": "markdown",
   "metadata": {},
   "source": [
    "## Export to CSV files"
   ]
  },
  {
   "cell_type": "markdown",
   "metadata": {},
   "source": [
    "After successfully scraping all the metadata of the songs from a playlist on Spotify, we define functions to help us export all the metadata to csv files. Afterwards, we can have a dataset that includes all the metadata of the songs by merging all exported files below. "
   ]
  },
  {
   "cell_type": "markdown",
   "metadata": {},
   "source": [
    "### Names of the songs"
   ]
  },
  {
   "cell_type": "code",
   "execution_count": null,
   "metadata": {},
   "outputs": [],
   "source": [
    "# get and write names to a csv file\n",
    "def get_write_song_names(filename):\n",
    "    song_names = songs.get_track_names()\n",
    "    d_names = {'name': song_names}  \n",
    "    df_names = pd.DataFrame(d_names) \n",
    "    if path.exists(filename):\n",
    "        df_names.to_csv(filename, index=False, mode='a', header=False)\n",
    "    else:\n",
    "        df_names.to_csv(filename, index=False)\n",
    "    \n",
    "get_write_song_names('data/names.csv')"
   ]
  },
  {
   "cell_type": "markdown",
   "metadata": {},
   "source": [
    "### Artist(s) of the songs"
   ]
  },
  {
   "cell_type": "code",
   "execution_count": null,
   "metadata": {},
   "outputs": [],
   "source": [
    "# get and write artists to a csv file\n",
    "def get_write_artists(filename):\n",
    "    song_artists = songs.get_track_artists()\n",
    "    d_artists = {'artists': song_artists}  \n",
    "    df_artists = pd.DataFrame(d_artists) \n",
    "    if path.exists(filename):\n",
    "        df_artists.to_csv(filename, index=False, mode='a', header=False)\n",
    "    else:\n",
    "        df_artists.to_csv(filename, index=False)\n",
    "\n",
    "get_write_artists('data/artists.csv')"
   ]
  },
  {
   "cell_type": "markdown",
   "metadata": {},
   "source": [
    "### Popularity of the songs"
   ]
  },
  {
   "cell_type": "code",
   "execution_count": null,
   "metadata": {},
   "outputs": [],
   "source": [
    "# get and write popularity to a csv file\n",
    "def get_write_popularity(filename):\n",
    "    song_popularity = songs.get_track_popularity()\n",
    "    d_popularity = {'popularity': song_popularity}  \n",
    "    df_popularity = pd.DataFrame(d_popularity) \n",
    "    if path.exists(filename):\n",
    "        df_popularity.to_csv(filename, index=False, mode='a', header=False)\n",
    "    else:\n",
    "        df_popularity.to_csv(filename, index=False)\n",
    "\n",
    "get_write_popularity('data/popularity.csv')"
   ]
  },
  {
   "cell_type": "markdown",
   "metadata": {},
   "source": [
    "### Release Dates of the songs"
   ]
  },
  {
   "cell_type": "code",
   "execution_count": null,
   "metadata": {},
   "outputs": [],
   "source": [
    "# get and write dates to a csv file\n",
    "def get_write_release_date(filename):\n",
    "    song_dates = songs.get_track_dates()\n",
    "    d_dates = {'release_date': song_dates}  \n",
    "    df_dates = pd.DataFrame(d_dates) \n",
    "    if path.exists(filename):\n",
    "        df_dates.to_csv(filename, index=False, mode='a', header=False)\n",
    "    else:\n",
    "        df_dates.to_csv(filename, index=False)\n",
    "\n",
    "get_write_release_date('data/release_date.csv')"
   ]
  },
  {
   "cell_type": "markdown",
   "metadata": {},
   "source": [
    "### Genre(s) of the artist"
   ]
  },
  {
   "cell_type": "code",
   "execution_count": null,
   "metadata": {},
   "outputs": [],
   "source": [
    "# get and write genres to a csv file\n",
    "def get_write_genres(filename):\n",
    "    song_genres = songs.get_track_genres()\n",
    "    d_genres = {'genres': song_genres}  \n",
    "    df_genres = pd.DataFrame(d_genres) \n",
    "    if path.exists(filename):\n",
    "        df_genres.to_csv(filename, index=False, mode='a', header=False)\n",
    "    else:\n",
    "        df_genres.to_csv(filename, index=False)\n",
    "            \n",
    "get_write_genres('data/genres.csv')"
   ]
  },
  {
   "cell_type": "markdown",
   "metadata": {},
   "source": [
    "### Features of the songs"
   ]
  },
  {
   "cell_type": "code",
   "execution_count": null,
   "metadata": {},
   "outputs": [],
   "source": [
    "# get and write song features to a csv file\n",
    "def get_write_song_features(filename):\n",
    "    song_features = songs.get_track_features()\n",
    "    d_features = {'features': song_features} \n",
    "    df_features = pd.DataFrame(d_features)\n",
    "    df_features = pd.concat([df_features, df_features['features'].apply(pd.Series)], axis = 1).drop('features', axis = 1)\n",
    "    df_features.columns = ['features']\n",
    "    df_features = pd.concat([df_features, df_features['features'].apply(pd.Series)], axis = 1).drop('features', axis = 1)\n",
    "    if path.exists(filename):\n",
    "        df_features.to_csv(filename, index=False, mode='a', header=False)\n",
    "    else:\n",
    "        df_features.to_csv(filename, index=False)\n",
    "        \n",
    "get_write_song_features('data/features.csv')"
   ]
  },
  {
   "cell_type": "markdown",
   "metadata": {},
   "source": [
    "### Lyrics of the songs"
   ]
  },
  {
   "cell_type": "code",
   "execution_count": null,
   "metadata": {},
   "outputs": [],
   "source": [
    "# get and write lyrics to a csv file\n",
    "def get_write_lyrics(filename):\n",
    "    song_lyrics_filtered = [i.replace('\\n\\n', ' ') for i in song_lyrics]\n",
    "    song_lyrics_filtered = [i.replace('\\n', '. ') for i in song_lyrics_filtered]\n",
    "    song_lyrics_filtered = [i.replace('\\u2005', ' ') for i in song_lyrics_filtered]\n",
    "    song_lyrics_filtered = [i.replace('\\u205f', ' ') for i in song_lyrics_filtered]\n",
    "    song_lyrics_filtered = [i.replace('\"', \"'\") for i in song_lyrics_filtered]\n",
    "    d_lyrics = {'lyrics': song_lyrics_filtered}  \n",
    "    df_lyrics = pd.DataFrame(d_lyrics) \n",
    "    if path.exists(filename):\n",
    "        df_lyrics.to_csv(filename, index=False, mode='a', header=False)\n",
    "    else:\n",
    "        df_lyrics.to_csv(filename, index=False)\n",
    "\n",
    "get_write_lyrics('data/lyrics.csv')"
   ]
  }
 ],
 "metadata": {
  "kernelspec": {
   "display_name": "Python 3",
   "language": "python",
   "name": "python3"
  },
  "language_info": {
   "codemirror_mode": {
    "name": "ipython",
    "version": 3
   },
   "file_extension": ".py",
   "mimetype": "text/x-python",
   "name": "python",
   "nbconvert_exporter": "python",
   "pygments_lexer": "ipython3",
   "version": "3.7.3"
  }
 },
 "nbformat": 4,
 "nbformat_minor": 2
}
